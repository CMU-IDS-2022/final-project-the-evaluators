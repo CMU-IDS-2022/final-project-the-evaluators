{
 "cells": [
  {
   "cell_type": "code",
   "execution_count": 2,
   "metadata": {},
   "outputs": [],
   "source": [
    "import streamlit as st\n",
    "import pandas as pd\n",
    "import altair as alt\n",
    "import numpy as np\n",
    "from utils import get_course_df\n",
    "from utils import get_instructor_df\n",
    "from utils import get_dept_df\n",
    "from utils import options_map_to_columns"
   ]
  },
  {
   "cell_type": "code",
   "execution_count": 3,
   "metadata": {},
   "outputs": [],
   "source": [
    "numeric_columns = [\n",
    "        'hrs_per_week',\n",
    "        'total_students',\n",
    "        'responses',\n",
    "        'response_rate',\n",
    "        'interest_in_student_learning',\n",
    "        'clearly_explain_course_requirements',\n",
    "        'clear_learning_objectives_and_goals',\n",
    "        'instructor_provides_feedback',\n",
    "        'demonstrate_importance_of_subject_matter',\n",
    "        'explains_subject_matter_of_course',\n",
    "        'show_respect_for_all_students',\n",
    "        'overall_teaching_rate',\n",
    "        'overall_course_rate'\n",
    "    ]"
   ]
  },
  {
   "cell_type": "code",
   "execution_count": 14,
   "metadata": {},
   "outputs": [],
   "source": [
    "def load_data():\n",
    "    # Load the yelp data.\n",
    "    fce_data_url = \"../fce-data.csv\"\n",
    "    raw_df = pd.read_csv(fce_data_url)\n",
    "    df = raw_df\n",
    "    df.dropna(inplace=True)\n",
    "    # Convert numeric columns\n",
    "    for nc in numeric_columns:\n",
    "        df[nc] = pd.to_numeric(df[nc])\n",
    "\n",
    "    # Filter data\n",
    "    df = df[(df['total_students'] > 5) & (df['total_students'] <= 325)] # Remove Outlier\n",
    "    df = df[df['response_rate'] > 0.4]\n",
    "    df = df[df['college'] != 'Teaching Assistants']\n",
    "\n",
    "    # df['overall_rate'] = df[(df['overall_course_rate'] + df['overall_teaching_rate'] + df['show_respect_for_all_students']) / 3]\n",
    "    return df"
   ]
  },
  {
   "cell_type": "code",
   "execution_count": 16,
   "metadata": {},
   "outputs": [],
   "source": [
    "df = load_data()\n",
    "course_df = get_course_df(df)\n",
    "\n",
    "options_map_to_column = options_map_to_columns"
   ]
  },
  {
   "cell_type": "code",
   "execution_count": 17,
   "metadata": {},
   "outputs": [],
   "source": [
    "options_columns = ['overall_teaching_rate', 'overall_course_rate']\n",
    "course_options = ['2021 Fall 85738 ED GOALS INST ASSESS', '2021 Spring 5840 TOOLS ONLINE LRNG']\n",
    "course_df[\"course_name_code_year\"] = course_df[\"year\"].astype(str) + ' ' + course_df[\"semester\"] + ' '  + course_df[\"num\"].astype(str) + ' ' + course_df[\"course_name\"]\n"
   ]
  },
  {
   "cell_type": "code",
   "execution_count": 18,
   "metadata": {},
   "outputs": [],
   "source": [
    "filter_df1 = course_df.groupby(['course_name_code_year', 'instructor', 'responses'])[options_columns].mean().reset_index()\n",
    "# st.write(filter_df1)\n",
    "filter_df = filter_df1.loc[course_df['course_name_code_year'].isin(course_options)]\n",
    "# st.write(filter_df)\n",
    "reshaped_filter_df = filter_df.melt(id_vars=['course_name_code_year', 'instructor', 'responses'], var_name = 'Judge Parameter', value_name = 'Rating').sort_values(by='course_name_code_year').reset_index(drop=True)\n",
    "# st.write(reshaped_filter_df)\n",
    "selection_legend = alt.selection_multi(fields=['course_name_code_year'], bind='legend')\n",
    "\n",
    "base = alt.Chart(reshaped_filter_df).mark_bar(tooltip=True).transform_calculate(\n",
    "    y=\"split(datum.y, '_')\"\n",
    ").encode(\n",
    "    y=alt.Y('course_name_code_year:O', type=\"nominal\", axis=alt.Axis(title=None, labels=False)),\n",
    "    x=alt.X('Rating:Q',axis=alt.Axis(grid=False)),\n",
    "    color=alt.Color('course_name_code_year:N',legend=alt.Legend(title=\"Course Name\", labelFontSize=12)),\n",
    "    opacity=alt.condition(selection_legend, alt.value(1), alt.value(0.2)),\n",
    "    row=alt.Row('Judge Parameter:N', header=alt.Header(labelAngle=0, labelAlign=\"left\", labelFontSize=8)),\n",
    "    tooltip = [alt.Tooltip(field = \"course_name_code_year\", title = \"Course Name\", type = \"nominal\"),\n",
    "            alt.Tooltip(field = \"Rating\", title =\"Rating\", type = \"quantitative\", format=\".2f\"),\n",
    "            alt.Tooltip(field = \"instructor\", title =\"Instructor\", type = \"nominal\"),\n",
    "            alt.Tooltip(field = \"responses\", title =\"Responses\", type = \"quantitative\")\n",
    "    ],\n",
    ").properties(\n",
    "    title=\"Compare Ratings for Selected Courses\", \n",
    "    width=400,\n",
    ").configure_title(\n",
    "    anchor='middle',\n",
    ").add_selection(\n",
    "    selection_legend\n",
    ").configure_legend(\n",
    "    labelLimit= 0\n",
    ")\n"
   ]
  },
  {
   "cell_type": "code",
   "execution_count": 19,
   "metadata": {},
   "outputs": [
    {
     "data": {
      "text/html": [
       "\n",
       "<div id=\"altair-viz-c8b8928c3b5e41908392d0148718fb21\"></div>\n",
       "<script type=\"text/javascript\">\n",
       "  var VEGA_DEBUG = (typeof VEGA_DEBUG == \"undefined\") ? {} : VEGA_DEBUG;\n",
       "  (function(spec, embedOpt){\n",
       "    let outputDiv = document.currentScript.previousElementSibling;\n",
       "    if (outputDiv.id !== \"altair-viz-c8b8928c3b5e41908392d0148718fb21\") {\n",
       "      outputDiv = document.getElementById(\"altair-viz-c8b8928c3b5e41908392d0148718fb21\");\n",
       "    }\n",
       "    const paths = {\n",
       "      \"vega\": \"https://cdn.jsdelivr.net/npm//vega@5?noext\",\n",
       "      \"vega-lib\": \"https://cdn.jsdelivr.net/npm//vega-lib?noext\",\n",
       "      \"vega-lite\": \"https://cdn.jsdelivr.net/npm//vega-lite@4.17.0?noext\",\n",
       "      \"vega-embed\": \"https://cdn.jsdelivr.net/npm//vega-embed@6?noext\",\n",
       "    };\n",
       "\n",
       "    function maybeLoadScript(lib, version) {\n",
       "      var key = `${lib.replace(\"-\", \"\")}_version`;\n",
       "      return (VEGA_DEBUG[key] == version) ?\n",
       "        Promise.resolve(paths[lib]) :\n",
       "        new Promise(function(resolve, reject) {\n",
       "          var s = document.createElement('script');\n",
       "          document.getElementsByTagName(\"head\")[0].appendChild(s);\n",
       "          s.async = true;\n",
       "          s.onload = () => {\n",
       "            VEGA_DEBUG[key] = version;\n",
       "            return resolve(paths[lib]);\n",
       "          };\n",
       "          s.onerror = () => reject(`Error loading script: ${paths[lib]}`);\n",
       "          s.src = paths[lib];\n",
       "        });\n",
       "    }\n",
       "\n",
       "    function showError(err) {\n",
       "      outputDiv.innerHTML = `<div class=\"error\" style=\"color:red;\">${err}</div>`;\n",
       "      throw err;\n",
       "    }\n",
       "\n",
       "    function displayChart(vegaEmbed) {\n",
       "      vegaEmbed(outputDiv, spec, embedOpt)\n",
       "        .catch(err => showError(`Javascript Error: ${err.message}<br>This usually means there's a typo in your chart specification. See the javascript console for the full traceback.`));\n",
       "    }\n",
       "\n",
       "    if(typeof define === \"function\" && define.amd) {\n",
       "      requirejs.config({paths});\n",
       "      require([\"vega-embed\"], displayChart, err => showError(`Error loading script: ${err.message}`));\n",
       "    } else {\n",
       "      maybeLoadScript(\"vega\", \"5\")\n",
       "        .then(() => maybeLoadScript(\"vega-lite\", \"4.17.0\"))\n",
       "        .then(() => maybeLoadScript(\"vega-embed\", \"6\"))\n",
       "        .catch(showError)\n",
       "        .then(() => displayChart(vegaEmbed));\n",
       "    }\n",
       "  })({\"config\": {\"view\": {\"continuousWidth\": 400, \"continuousHeight\": 300}, \"legend\": {\"labelLimit\": 0}, \"title\": {\"anchor\": \"middle\"}}, \"data\": {\"name\": \"data-217db4cfd5946534bddf712d9613a3f9\"}, \"mark\": {\"type\": \"bar\", \"tooltip\": true}, \"encoding\": {\"color\": {\"field\": \"course_name_code_year\", \"legend\": {\"labelFontSize\": 12, \"title\": \"Course Name\"}, \"type\": \"nominal\"}, \"opacity\": {\"condition\": {\"value\": 1, \"selection\": \"selector002\"}, \"value\": 0.2}, \"row\": {\"field\": \"Judge Parameter\", \"header\": {\"labelAlign\": \"left\", \"labelAngle\": 0, \"labelFontSize\": 8}, \"type\": \"nominal\"}, \"tooltip\": [{\"field\": \"course_name_code_year\", \"title\": \"Course Name\", \"type\": \"nominal\"}, {\"field\": \"Rating\", \"format\": \".2f\", \"title\": \"Rating\", \"type\": \"quantitative\"}, {\"field\": \"instructor\", \"title\": \"Instructor\", \"type\": \"nominal\"}, {\"field\": \"responses\", \"title\": \"Responses\", \"type\": \"quantitative\"}], \"x\": {\"axis\": {\"grid\": false}, \"field\": \"Rating\", \"type\": \"quantitative\"}, \"y\": {\"axis\": {\"labels\": false, \"title\": null}, \"field\": \"course_name_code_year\", \"type\": \"nominal\"}}, \"selection\": {\"selector002\": {\"type\": \"multi\", \"fields\": [\"course_name_code_year\"], \"bind\": \"legend\"}}, \"title\": \"Compare Ratings for Selected Courses\", \"transform\": [{\"calculate\": \"split(datum.y, '_')\", \"as\": \"y\"}], \"width\": 400, \"$schema\": \"https://vega.github.io/schema/vega-lite/v4.17.0.json\", \"datasets\": {\"data-217db4cfd5946534bddf712d9613a3f9\": [{\"course_name_code_year\": \"2021 Fall 85738 ED GOALS INST ASSESS\", \"instructor\": \"HERCKIS, LAUREN\", \"responses\": 27.0, \"Judge Parameter\": \"overall_teaching_rate\", \"Rating\": 4.56}, {\"course_name_code_year\": \"2021 Fall 85738 ED GOALS INST ASSESS\", \"instructor\": \"HERCKIS, LAUREN\", \"responses\": 27.0, \"Judge Parameter\": \"overall_course_rate\", \"Rating\": 4.22}, {\"course_name_code_year\": \"2021 Spring 5840 TOOLS ONLINE LRNG\", \"instructor\": \"KULKARNI, CHINMAY\", \"responses\": 7.0, \"Judge Parameter\": \"overall_teaching_rate\", \"Rating\": 4.0}, {\"course_name_code_year\": \"2021 Spring 5840 TOOLS ONLINE LRNG\", \"instructor\": \"KULKARNI, CHINMAY\", \"responses\": 7.0, \"Judge Parameter\": \"overall_course_rate\", \"Rating\": 4.0}]}}, {\"mode\": \"vega-lite\"});\n",
       "</script>"
      ],
      "text/plain": [
       "alt.Chart(...)"
      ]
     },
     "execution_count": 19,
     "metadata": {},
     "output_type": "execute_result"
    }
   ],
   "source": [
    "base"
   ]
  },
  {
   "cell_type": "code",
   "execution_count": null,
   "metadata": {},
   "outputs": [],
   "source": []
  }
 ],
 "metadata": {
  "interpreter": {
   "hash": "f413a907aa854d35478c2613cf4349f56d008d37369e8f74c89b0c720eed044a"
  },
  "kernelspec": {
   "display_name": "Python 3.9.7 ('venv': venv)",
   "language": "python",
   "name": "python3"
  },
  "language_info": {
   "codemirror_mode": {
    "name": "ipython",
    "version": 3
   },
   "file_extension": ".py",
   "mimetype": "text/x-python",
   "name": "python",
   "nbconvert_exporter": "python",
   "pygments_lexer": "ipython3",
   "version": "3.9.7"
  },
  "orig_nbformat": 4
 },
 "nbformat": 4,
 "nbformat_minor": 2
}
